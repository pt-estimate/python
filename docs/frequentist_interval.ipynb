{
 "cells": [
  {
   "cell_type": "markdown",
   "metadata": {},
   "source": [
    "####Problem: Given a random sample of observations from a population for which $\\mu$ and $\\sigma$ are unknown, compute a 95% confidence interval for $\\mu$."
   ]
  },
  {
   "cell_type": "code",
   "execution_count": 1,
   "metadata": {
    "collapsed": true
   },
   "outputs": [],
   "source": [
    "%matplotlib inline\n",
    "import matplotlib.pyplot as plt\n",
    "import numpy as np\n",
    "from scipy import stats\n",
    "import seaborn as sns\n",
    "sns.set(palette=\"Set2\")"
   ]
  },
  {
   "cell_type": "code",
   "execution_count": 2,
   "metadata": {
    "collapsed": true
   },
   "outputs": [],
   "source": [
    "#Generate sample\n",
    "true_mu = 20\n",
    "sigma_x = 5\n",
    "N = 50\n",
    "sample = np.random.normal(true_mu, sigma_x, size=N)"
   ]
  },
  {
   "cell_type": "code",
   "execution_count": 43,
   "metadata": {
    "collapsed": false
   },
   "outputs": [
    {
     "data": {
      "image/png": "[encoded data removed]",
      "text/plain": [
       "<matplotlib.figure.Figure at 0x108330150>"
      ]
     },
     "metadata": {},
     "output_type": "display_data"
    }
   ],
   "source": [
    "#Plot points\n",
    "fig, ax = plt.subplots()\n",
    "ax.errorbar(sample, np.arange(N), fmt='s', color='black', alpha=0.5)\n",
    "ax.vlines([true_mu], 0, N, linewidth=5, alpha=0.2, color='green', label=\"true $\\mu$\")\n",
    "ax.set_xlabel(\"value\");ax.set_ylabel(\"measurement number\")\n",
    "plt.legend(loc=\"upper right\");"
   ]
  },
  {
   "cell_type": "markdown",
   "metadata": {},
   "source": [
    "In this excercise, I am employing the frequentist large sample confidence interval for $\\mu$.\n",
    "  \n",
    "$$(\\bar{X}-z_{\\alpha/2}\\frac{s}{\\sqrt{n}}, \\bar{X}+z_{\\alpha/2}\\frac{s}{\\sqrt{n}})$$"
   ]
  },
  {
   "cell_type": "code",
   "execution_count": 48,
   "metadata": {
    "collapsed": true
   },
   "outputs": [],
   "source": [
    "def frequentist_interval(sample, alpha):\n",
    "    \"\"\"Computes a 100(1-alpha)% confidence interval for the parameter\"\"\"\n",
    "    x_bar = np.mean(sample)\n",
    "    s = np.std(sample)\n",
    "    n = len(sample)\n",
    "    cv_of_z = stats.norm.isf(alpha / 2)\n",
    "    lower_bound = x_bar - cv_of_z*(s/np.sqrt(n))\n",
    "    upper_bound = x_bar + cv_of_z*(s/np.sqrt(n))\n",
    "    return lower_bound, upper_bound"
   ]
  },
  {
   "cell_type": "code",
   "execution_count": 6,
   "metadata": {
    "collapsed": false
   },
   "outputs": [
    {
     "name": "stdout",
     "output_type": "stream",
     "text": [
      "A 95% confidence interval for mu computed from the observed sample: [19, 22]\n"
     ]
    }
   ],
   "source": [
    "import numpy as np\n",
    "from scipy import stats\n",
    "alpha = 0.05\n",
    "print(\"A 95% confidence interval for mu computed from the observed sample: [{0:.0f}, {1:.0f}]\".format(*frequentist_interval(sample, alpha)))"
   ]
  },
  {
   "cell_type": "markdown",
   "metadata": {
    "collapsed": true
   },
   "source": [
    "To better understand what is meant by this, we compute repeated samplings from the same distribution.\n",
    "  "
   ]
  },
  {
   "cell_type": "code",
   "execution_count": 47,
   "metadata": {
    "collapsed": false
   },
   "outputs": [
    {
     "data": {
      "image/png": "[encoded data removed]",
      "text/plain": [
       "<matplotlib.figure.Figure at 0x108c48d90>"
      ]
     },
     "metadata": {},
     "output_type": "display_data"
    }
   ],
   "source": [
    "x_bars, std_errs = [], []\n",
    "\n",
    "for s in range(10):\n",
    "    sample = np.random.normal(true_mu, sigma_x, size=N)\n",
    "    x_bar = np.mean(sample)\n",
    "    s = np.std(sample)\n",
    "    n = len(sample)\n",
    "    cv_of_z = stats.norm.isf(alpha / 2)\n",
    "    x_bars.append(x_bar)\n",
    "    std_errs.append(cv_of_z*(s/np.sqrt(n)))\n",
    "\n",
    "#Plot repeated samplings\n",
    "fig, ax = plt.subplots()\n",
    "ax.errorbar(x_bars, np.arange(10), fmt='s', xerr=std_errs, color='gray', alpha=0.5)\n",
    "ax.vlines([true_mu], 0, 10, linewidth=5, alpha=0.2, color='green', label=\"true $\\mu$\")\n",
    "ax.set_xlabel(\"value\");ax.set_ylabel(\"CI repetition\")\n",
    "plt.legend(loc=\"upper right\");"
   ]
  },
  {
   "cell_type": "markdown",
   "metadata": {},
   "source": [
    "####We see that of the ten confidence intervals computed, eight of them cover the true value of $\\mu$.\n",
    "\n",
    "####Take note that the 95% confidence interval represents the long-run relative frequency of these intervals crossing the true value of $\\mu$."
   ]
  }
 ],
 "metadata": {
  "kernelspec": {
   "display_name": "Python 2",
   "language": "python",
   "name": "python2"
  },
  "language_info": {
   "codemirror_mode": {
    "name": "ipython",
    "version": 2
   },
   "file_extension": ".py",
   "mimetype": "text/x-python",
   "name": "python",
   "nbconvert_exporter": "python",
   "pygments_lexer": "ipython2",
   "version": "2.7.6"
  }
 },
 "nbformat": 4,
 "nbformat_minor": 0
}
