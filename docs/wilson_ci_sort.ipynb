{
 "cells": [
  {
   "cell_type": "code",
   "execution_count": 11,
   "metadata": {
    "collapsed": true
   },
   "outputs": [],
   "source": [
    "from __future__ import division\n",
    "\n",
    "import numpy as np\n",
    "from scipy import stats"
   ]
  },
  {
   "cell_type": "code",
   "execution_count": 12,
   "metadata": {
    "collapsed": false
   },
   "outputs": [],
   "source": [
    "n = 10\n",
    "\n",
    "s1 = np.random.binomial(n, p=0.2, size=1)[0]\n",
    "s2 = np.random.binomial(n, p=0.4, size=1)[0]\n",
    "s3 = np.random.binomial(n, p=0.6, size=1)[0]\n",
    "s4 = np.random.binomial(n, p=0.8, size=1)[0]\n",
    "\n",
    "samples = {'s1':[s1,n], 's2':[s2,n], 's3':[s3,n], 's4':[s4,n]}"
   ]
  },
  {
   "cell_type": "markdown",
   "metadata": {},
   "source": [
    "####We demonstrate the lower bound of the wilson score confidence interval for ranking.\n",
    "<br></br>\n",
    "$$\n",
    "\\bigg[\\frac{1}{1+\\frac{1}{n}z^2_{1-\\alpha/2}}\\bigg]{\\hat{p}+ \\frac{1}{2n}z^2_{1-\\alpha/2} \\pm z_{1-\\alpha/2}\\sqrt{\\frac{\\hat{p}(1-\\hat{p})}{n}+\\frac{z^2_{1-\\alpha/2}}{4n^2}}}\n",
    "$$\n",
    "####In sorting by this lower bound, we are saying that we are 95% confident that the true parameter is at least this lower bound."
   ]
  },
  {
   "cell_type": "code",
   "execution_count": 1,
   "metadata": {
    "collapsed": true
   },
   "outputs": [],
   "source": [
    "def wilson_score_interval(success_count, total_count, alpha):\n",
    "    \"\"\"Estimates a 100(1-alpha)% wilson score confidence interval for the parameter\"\"\"\n",
    "    cv_of_z = stats.norm.isf(alpha / 2)\n",
    "    p_hat = success_count / total_count\n",
    "    lower_bound = p_hat + cv_of_z**2/(2*total_count) - cv_of_z * \\\n",
    "        np.sqrt((p_hat*(1-p_hat) + cv_of_z**2/(4*total_count))/total_count)/ \\\n",
    "        (1 + cv_of_z**2/total_count)\n",
    "    upper_bound = p_hat + cv_of_z**2/(2*total_count) + cv_of_z * \\\n",
    "        np.sqrt((p_hat*(1-p_hat) + cv_of_z**2/(4*total_count))/total_count)/ \\\n",
    "        (1 + cv_of_z**2/total_count)\n",
    "    return lower_bound, upper_bound"
   ]
  },
  {
   "cell_type": "code",
   "execution_count": 14,
   "metadata": {
    "collapsed": true
   },
   "outputs": [],
   "source": [
    "def confidence_sort(samples, alpha):\n",
    "    \"\"\"Sorts by the lower bound of the wilson score confidence interval\"\"\"\n",
    "    for k,v in samples.items():\n",
    "        success_count = v[0]\n",
    "        total_count = v[1]\n",
    "        lb, ub = wilson_score_interval(success_count, total_count, alpha)\n",
    "        samples[k]=lb\n",
    "    confidence_sorted = sorted(samples, key=samples.__getitem__)\n",
    "    return confidence_sorted"
   ]
  },
  {
   "cell_type": "code",
   "execution_count": 15,
   "metadata": {
    "collapsed": false
   },
   "outputs": [
    {
     "data": {
      "text/plain": [
       "['s1', 's3', 's2', 's4']"
      ]
     },
     "execution_count": 15,
     "metadata": {},
     "output_type": "execute_result"
    }
   ],
   "source": [
    "confidence_sort(samples, 0.05)"
   ]
  }
 ],
 "metadata": {
  "kernelspec": {
   "display_name": "Python 2",
   "language": "python",
   "name": "python2"
  },
  "language_info": {
   "codemirror_mode": {
    "name": "ipython",
    "version": 2
   },
   "file_extension": ".py",
   "mimetype": "text/x-python",
   "name": "python",
   "nbconvert_exporter": "python",
   "pygments_lexer": "ipython2",
   "version": "2.7.6"
  }
 },
 "nbformat": 4,
 "nbformat_minor": 0
}
